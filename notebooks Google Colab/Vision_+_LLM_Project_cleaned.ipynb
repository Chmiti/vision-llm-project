{
 "nbformat": 4,
 "nbformat_minor": 0,
 "metadata": {
  "colab": {
   "provenance": [],
   "gpuType": "T4"
  },
  "kernelspec": {
   "name": "python3",
   "display_name": "Python 3"
  },
  "language_info": {
   "name": "python"
  },
  "accelerator": "GPU"
 },
 "cells": [
  {
   "cell_type": "code",
   "execution_count": null,
   "metadata": {
    "colab": {
     "base_uri": "https://localhost:8080/"
    },
    "id": "qtrGKqP7Ra1m",
    "outputId": "f731affd-f694-441c-b738-fd05f5ce3364"
   },
   "source": [
    "!git clone https://github.com/chmiti/vision-llm-project.git\n",
    "%cd vision-llm-project"
   ]
  },
  {
   "cell_type": "code",
   "source": [
    "from google.colab import files\n",
    "uploaded = files.upload()\n"
   ],
   "metadata": {
    "colab": {
     "base_uri": "https://localhost:8080/",
     "height": 73
    },
    "id": "ni7Qb1D2gZmx",
    "outputId": "dc2c96cd-c091-4fc9-cfce-ecde09afe230"
   },
   "execution_count": null
  },
  {
   "cell_type": "code",
   "source": [
    "import os\n",
    "os.makedirs(\"data/images\", exist_ok=True)\n"
   ],
   "metadata": {
    "id": "FeG14HvSgaK-"
   },
   "execution_count": null
  },
  {
   "cell_type": "code",
   "source": [
    "from google.colab import files\n",
    "uploaded = files.upload()\n"
   ],
   "metadata": {
    "colab": {
     "base_uri": "https://localhost:8080/",
     "height": 987
    },
    "id": "GLQTx8Qkhk6m",
    "outputId": "0e028e89-e679-4f89-9667-4cdc514a8e1d"
   },
   "execution_count": null
  },
  {
   "cell_type": "code",
   "source": [
    "import shutil\n",
    "\n",
    "# D\u00e9placer toutes les images vers data/images\n",
    "for filename in uploaded.keys():\n",
    "    shutil.move(filename, f\"data/images/{filename}\")\n"
   ],
   "metadata": {
    "id": "fL4kPkOWhpNn"
   },
   "execution_count": null
  },
  {
   "cell_type": "code",
   "source": [
    "!pip install -q transformers accelerate bitsandbytes\n"
   ],
   "metadata": {
    "colab": {
     "base_uri": "https://localhost:8080/"
    },
    "id": "1umZfyxoiXMP",
    "outputId": "51843d37-c75b-4bf8-bdb0-b913ae9d0c4a"
   },
   "execution_count": null
  },
  {
   "cell_type": "code",
   "source": [
    "from huggingface_hub import login\n",
    "login(token=\"hf_xxxxxxxxxxxxxxxxxxxxxxx\")\n"
   ],
   "metadata": {
    "id": "-r80_ASOjewe"
   },
   "execution_count": null
  },
  {
   "cell_type": "code",
   "source": [
    "from transformers import AutoTokenizer, AutoModelForCausalLM, pipeline\n",
    "import torch\n",
    "import csv\n",
    "import os\n",
    "\n",
    "model_name = \"mistralai/Mistral-7B-Instruct-v0.1\"\n",
    "tokenizer = AutoTokenizer.from_pretrained(model_name)\n",
    "model = AutoModelForCausalLM.from_pretrained(\n",
    "    model_name,\n",
    "    device_map=\"auto\",\n",
    "    torch_dtype=torch.float16 if torch.cuda.is_available() else torch.float32\n",
    ")\n",
    "generator = pipeline(\"text-generation\", model=model, tokenizer=tokenizer)\n",
    "\n",
    "def ask_mistral(prompt):\n",
    "    response = generator(prompt, max_new_tokens=150, do_sample=True, temperature=0.5)[0]['generated_text']\n",
    "    return response[len(prompt):].strip()\n",
    "\n",
    "def main(captions_file=\"captions.csv\", output_file=\"reasoning.csv\"):\n",
    "    print(\"\u2705 D\u00e9but inf\u00e9rence...\")\n",
    "    with open(captions_file, newline='', encoding='utf-8') as f:\n",
    "        reader = csv.DictReader(f)\n",
    "        rows = list(reader)\n",
    "\n",
    "    with open(output_file, \"w\", newline='', encoding='utf-8') as out_f:\n",
    "        writer = csv.writer(out_f)\n",
    "        writer.writerow([\"filename\", \"caption\", \"llm_response\"])\n",
    "\n",
    "        for row in rows:\n",
    "            prompt = f\"\"\"### Instruction:\n",
    "You are a helpful assistant analyzing traffic images.\n",
    "\n",
    "### Caption:\n",
    "{row['caption']}\n",
    "\n",
    "### Question:\n",
    "What do you infer about this image?\n",
    "\n",
    "### Answer:\"\"\"\n",
    "            answer = ask_mistral(prompt)\n",
    "            print(f\"\\n\ud83d\uddbc\ufe0f {row['filename']}\\n\ud83e\udd16 {answer}\")\n",
    "            writer.writerow([row['filename'], row['caption'], answer])\n",
    "\n",
    "main()\n"
   ],
   "metadata": {
    "colab": {
     "base_uri": "https://localhost:8080/",
     "height": 1000,
     "referenced_widgets": [
      "4e55e2856ca54bea959ddabd6d0ceff5",
      "975c1ba17cc74b8eb1df8e0237552da6",
      "405efcfb6d6f4f359f060cfd687299d0",
      "ae2586774d5b4ba6b034d97375d2490c",
      "ab11c445949e4f9491d6167179dde08f",
      "755e63b20905485ca2324848940c4cdc",
      "fd122b4252484126800f790d34df62eb",
      "17f444d881774791a80ff62a6caacdc0",
      "b04506b2b1a14be890fea0562680393c",
      "bfbbefad0aa04324a081eca2996955d3",
      "dd52950efcdf4f43b1c73dde6c0b8d98",
      "970a84a891fa41ed9a0c80fafb9159dc",
      "58fe1736f82849a6b23f87328c48d173",
      "efb4c2cfebf74a52ac927d1f5795a40d",
      "bd4cdd4dddc84050ba46800aa5a731bf",
      "2b00da21dfd745b18b26037a64056894",
      "b0686aa5cfe54bf797c4745b5c2faa00",
      "43caeb2969844c4b881e4a7007a209f5",
      "3e998036e44c44bc8d5f3c23c8550fe0",
      "c71169f44951429a82cb71885007faa4",
      "e42018fde9694ca784e5dac43fb3697e",
      "efc79331638f47b8b00ecc75d942338e",
      "83a3a2588a564528bd61f4d9ad9178fa",
      "f26854ebc1364ba2be3af6592b0c18f7",
      "4c99707cc51d403cb635c142536b1a71",
      "e3a38159e082496cbe25fb4cc104c5f6",
      "265d513d96cc423eb99be176326734e9",
      "9e65effd05cb46f0ad751d43268a78d4",
      "ea8a863fabf547098397a9998bf97e90",
      "6b4ee9cf368f438eb5ea21a0b617ed9a",
      "fbe928017dd44135aeb6e9409fc28f93",
      "5c71efa5d3174a2f95169472b9a8a44d",
      "7ec51a7e58d94f87897b45eb0c7e481e",
      "a5b4996bd7524a3e84cbdc72582bb0ff",
      "9070af2fda654622ac2177d6d3cb9f93",
      "4521314ceea8408eb0af086f6e581dbd",
      "9ab23d0f874f410da2e0c59922d773fc",
      "03e44f5e8f6e499e82c5c5b04152a4ed",
      "ec763ea38fce4820bbd2901d1ed24dea",
      "d2296662bb2f44c0ad7d2c8332dd36a0",
      "562c6d3c4c71447f875d2d66e1768e83",
      "aebcdf8b361a4e42a4e161cf9eef0c1b",
      "01b83b6203c94a2ebe0702d3af68f23c",
      "b9d0dcfbd68e49daa1b973665a15d1a5",
      "8738b58dbf5d4a2894c37de3e64f51a9",
      "2235180e31044724a17b363130cf2ef3",
      "999d7e9c7bcb4f308bd1fb8116bc6615",
      "162ba84791df4d41bcedce0b30f1380f",
      "4a2e2022865c4318a001be62c9388c7d",
      "bc0f9a0ddfd4412d84dda5a43c76ba70",
      "a51e2c9821c141df842468d8572bd205",
      "659ab74b7fea4080bd0c4639792630fe",
      "baea0ce69b5643b6b24e46df29c45f55",
      "3c4cebf11cd44f139be09588e753a820",
      "d125cdc6ce9c4b62bc5a995d4c1fa52f",
      "5bf58bd0a5584a4c848588f9077afc88",
      "839d7977c8db461a97bff5cbb05a5811",
      "e7c030002c2c4bb5a512fdf2d879e139",
      "9423732db79b4141bf3687d341803e48",
      "94680a7634924655839c0f99d186fba2",
      "439a4f3ef9664fdfa97a72a805e54cb6",
      "aa3550741b0942f3bc1965710679f169",
      "68d8114fecee4565987d59dd4bc9a735",
      "26ac3cd3952f4b60a282bab5841f61e7",
      "4dd94a20cff24301a741a55f13c3db0a",
      "f1f96e89acf04162934f14ef893d3c34",
      "43888d78a7554e64b3c74a4db2f9f91a",
      "7bc1454ff8e74f269c4fde6987828661",
      "1393447e428c483fb490167e514a101d",
      "745faf26c1bc4935ab7e7cc52f3fbadd",
      "e243c5536cab47ff9ad91e3185c06806",
      "7da57dbc1fb8467d85eeae7f5324340d",
      "f9f5ceb3589b4fa685ffe82ccbe8a114",
      "f9295eadc5644a2db5dd476e64c6fc5c",
      "29c4b8f7854c497fbbd0a8aa016fa8af",
      "3fb70e878a7f48a5b604330880e53c71",
      "944afdd926954d04aadcf53f9d34b5d9",
      "5afc07aa14794a9a83ab4dbdb90185a2",
      "f48ca1e72e0644b1be24d0ae2117af62",
      "5754b03cb9ef41fc8582526964f52e51",
      "105caf9c467a474597f6daa183159f0c",
      "3a076f53b69e44bd8cea2f45a1c8904d",
      "b8d4c4ca0d124ff4937492899f5fb306",
      "c37c8179e8d043f7a2bee969d836ca36",
      "16a17959c15648bebca8c5458831803d",
      "170db12e3b914c0980427107d223082e",
      "49fb05e9174640b6b3641dd23ec050e7",
      "10cf4b5604f34736aa9ec2f0db66d638",
      "d2b4e3e81f7e480eb267deb514db58ab",
      "ac408fb9303d4a809930cf16ae127472",
      "c0c8b55a29c84a0ebdf8adde7a6758b7",
      "ca6d25bb0fa24e469e422f7e31004637",
      "b12a62e200c641bc9b0057d482c19d99",
      "3fa06b6119f745f1990869ed51887542",
      "733fadafc7264908bff8ad7e93d84e83",
      "1287a48518a64b488f4bb5b6fa1b39eb",
      "e66da48ed1ab4c9a9aeec62e4d1da2d4",
      "7f66ed66efb04c2b86f5ac704094b0ec",
      "27e6ce1fb12f4c4586337dcf79a23e75",
      "2919220e2a0d4488811d8d3bb15ce848",
      "f7140dec5b0b4ac2b777de0eeef36933",
      "9d54b5ef67f44352aad1f7847bc57aae",
      "a4bad938c77844e2b2b675fd65c156c3",
      "a2e76c0f7e6a466db8567c11828839c5",
      "fef17a7f790e4692833d91dcf74ff24d",
      "ac48df0d9a874afaa8b3c3e9a4e77b8d",
      "11446fcc5fef4269b46cfb8430762e25",
      "062e888ad84a49639737e636de5a372f",
      "cad5cb773f034a77ad7c90aec31848d8",
      "be2011932c1141fab8c02cba72f7ed03",
      "768cdb3ddc71489a87eb7a6d84b2489a",
      "57aab248e1d84b18a8f8b729a531f6df",
      "4ff60ea8100045a383d37913c2ded3ea",
      "af00a60a7526433c83be595ae870fbf9",
      "ca7660151dbe49eaaf5dfed7a1a4aa2d",
      "4c2eca2d87f44327b2dcb7e77ce81532",
      "7c3d6b69bf2b4cd29b565d4fed0496b7",
      "b0469d6fa4254e8abcc8c583f5dffb5d",
      "7c496f44345b4996b6ca56b9539eb8bd",
      "d0efa61897b2487ca3463069b13fa585",
      "32b491c7ac1147e1848fd7e4b3dd0347"
     ]
    },
    "id": "DhNF6sWTiaAu",
    "outputId": "f397f441-e5dd-406c-91bd-057ced90e2c2"
   },
   "execution_count": null
  },
  {
   "cell_type": "code",
   "source": [],
   "metadata": {
    "id": "nPNqydtTiz27"
   },
   "execution_count": null
  }
 ]
}